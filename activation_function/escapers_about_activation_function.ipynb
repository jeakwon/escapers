{
 "cells": [
  {
   "cell_type": "markdown",
   "metadata": {
    "colab_type": "text",
    "id": "rjZ2nT8ez15X"
   },
   "source": [
    "# Comparison between activation functions\n",
    "---\n",
    "Author : Jea Kwon  \n",
    "Group : Escaper's study  \n",
    "Date: 2019-07-24  \n"
   ]
  },
  {
   "cell_type": "markdown",
   "metadata": {
    "colab_type": "text",
    "id": "BAmkF9FMDSMf"
   },
   "source": [
    "In 2017, Google reported new activation function, **Swish**. \n",
    "![Swish](https://miro.medium.com/max/788/1*6tUAKb3_1uGybwSufey3ZA.tiff)  \n",
    "[Comparison of activation functions](https://medium.com/@jaiyamsharma/experiments-with-swish-activation-function-on-mnist-dataset-fc89a8c79ff7)\n",
    "\n",
    "![Swish with Beta](https://media.springernature.com/original/springer-static/image/chp%3A10.1007%2F978-3-030-19501-4_49/MediaObjects/481228_1_En_49_Fig2_HTML.png)"
   ]
  },
  {
   "cell_type": "markdown",
   "metadata": {
    "colab_type": "text",
    "id": "UdLPr7wslEPC"
   },
   "source": [
    "# Model scaffold\n",
    "\n",
    "with keras backend of tensorflow library, analyze function returns loss and accuracy with specific dataset and activation function.\n",
    "\n",
    "## analyze(dataset, activation, epochs=3, n_hidden_layers=2, n_hidden_neurons=128, optimizer='adam',             loss='sparse_categorical_crossentropy', metrics=['accuracy'], verbose=0)\n",
    "\n",
    "### Input\n",
    "**dataset**: sample dataset provided by library  \n",
    "**activation**: activation function which is runnable inside the keras layer  \n",
    "**epoch**: number of epochs, (default)= 3  \n",
    "**n_hidden_layer**: number of hidden Dense layers, (default)= 2  \n",
    "**n_hidden_neurons**: number of hidden neurons per layers, (default)=128  \n",
    "**optimizer** : (default)='adam'  \n",
    "**loss**: (default)='sparse_categorical_crossentropy'  \n",
    "**metrics**: (default )=['accuracy']  \n",
    "**verbos**: Epoch learning print option, (default)=0 (disabled)\n",
    "\n",
    "\n",
    "### Output\n",
    "**loss**: model loss evaluated with testset  \n",
    "**acc**: model accuracy evaluated with testset"
   ]
  },
  {
   "cell_type": "code",
   "execution_count": 0,
   "metadata": {
    "colab": {},
    "colab_type": "code",
    "id": "gTbQ9cps0UKz"
   },
   "outputs": [],
   "source": [
    "import tensorflow as tf\n",
    "\n",
    "def analyze(dataset, activation, epochs=3, n_hidden_layers=2, \n",
    "            n_hidden_neurons=128, optimizer='adam', \n",
    "            loss='sparse_categorical_crossentropy', \n",
    "            metrics=['accuracy'], verbose=0):\n",
    "  (x_train, y_train), (x_test, y_test) = dataset.load_data()\n",
    "  x_train = tf.keras.utils.normalize(x_train, axis=1)\n",
    "  x_test = tf.keras.utils.normalize(x_test, axis=1)\n",
    "  \n",
    "  input_shape = x_train[0].shape\n",
    "  \n",
    "  model = tf.keras.models.Sequential()\n",
    "  model.add(tf.keras.layers.Flatten(input_shape=input_shape))\n",
    "  for _ in range(n_hidden_layers):\n",
    "    model.add(tf.keras.layers.Dense(n_hidden_neurons, activation=activation))\n",
    "  model.add(tf.keras.layers.Dense(10, activation=tf.nn.softmax))\n",
    "\n",
    "  model.compile(optimizer=optimizer, loss=loss, metrics=metrics)\n",
    "  model.fit(x_train, y_train, epochs=epochs, verbose=verbose)\n",
    "  loss, acc = model.evaluate(x_test, y_test, verbose=verbose)\n",
    "  return loss, acc"
   ]
  },
  {
   "cell_type": "markdown",
   "metadata": {
    "colab_type": "text",
    "id": "40_cpLfSlObA"
   },
   "source": [
    "# Summarize n-times running of analyze function\n",
    "summarize total loss and acc as pd.DataFrame from n-times running of analyze()\n",
    "\n",
    "## summarize(ntimes, dataset, activation, **kwargs)\n",
    "\n",
    "### Input\n",
    "**ntimes**: same models will be analyzed n-times by setting this value, (default)=5  \n",
    "**dataset**: sample dataset provided by library  \n",
    "**activation**: activation function which is runnable inside the keras layer  \n",
    "**kwargs**: keyword arguments anything inside analyze function will be effective\n",
    "\n",
    "### Output\n",
    "**df**: pd.DataFrame, columns=['loss, acc'], index=range(ntimes). "
   ]
  },
  {
   "cell_type": "code",
   "execution_count": 0,
   "metadata": {
    "colab": {},
    "colab_type": "code",
    "id": "yuHut64tUj5i"
   },
   "outputs": [],
   "source": [
    "import pandas as pd\n",
    "\n",
    "def summarize(ntimes, dataset, activation, **kwargs):\n",
    "  df = pd.DataFrame(columns=['loss', 'acc'])\n",
    "  for i in range(ntimes):\n",
    "    loss, acc = analyze(dataset, activation, **kwargs)\n",
    "    df.loc[i,'loss'] = loss\n",
    "    df.loc[i,'acc'] = acc\n",
    "  return df"
   ]
  },
  {
   "cell_type": "markdown",
   "metadata": {
    "colab_type": "text",
    "id": "6iePKIOGUgdg"
   },
   "source": [
    "# Total summary of activation functions. (with plot option)\n",
    "\n",
    "## main(activation_functions, dataset, plot=False, **kwargs)\n",
    "\n",
    "### Input\n",
    "**activation_functions**: dict of activtion_functions  \n",
    "**dataset**: sample dataset provided by library  \n",
    "**plot**: bool, (default)=True. if False, seaborn stripplot of loss, acc is disabled  \n",
    "**kwargs**: keyword arguments anything inside analyze function will be effective\n",
    "\n",
    "### Output\n",
    "**df**: dict, key=['loss', 'acc']/, value=pd.DataFrame(columns=['..activation_function_names..''])\n",
    "\n",
    "## summary_plot(summary)\n",
    "\n",
    "### Input\n",
    "**summary**: summary output from main()\n",
    "\n",
    "### Output\n",
    "**None**: showing inline loss and acc plots of summary"
   ]
  },
  {
   "cell_type": "code",
   "execution_count": 0,
   "metadata": {
    "colab": {},
    "colab_type": "code",
    "id": "g8u5YVYFvjVi"
   },
   "outputs": [],
   "source": [
    "import matplotlib.pyplot as plt\n",
    "import seaborn as sns\n",
    "\n",
    "def main(activation_functions, dataset, ntimes=5, plot=True, **kwargs):\n",
    "  summary = {}\n",
    "  print(f\"\"\"Analysis start\n",
    "  Activation functions: {activation_functions.keys()}\n",
    "  Dataset:{dataset.__name__}\"\"\")\n",
    "  for i, (name, activation) in enumerate(activation_functions.items(), start=1):\n",
    "    summary[name] = summarize(ntimes, dataset, activation, **kwargs)\n",
    "    print(f'[{i}/{len(activation_functions)}][{name} analysis completed]')\n",
    "  if plot:\n",
    "    summary_plot(summary)\n",
    "  return summary\n",
    "\n",
    "def summary_plot(summary):\n",
    "  df_loss = pd.DataFrame()\n",
    "  df_acc = pd.DataFrame()\n",
    "  for name, df in summary.items():\n",
    "    df_loss[name] = df['loss']\n",
    "    df_acc[name] = df['acc']\n",
    "  plt.figure(1)\n",
    "  plt.title(f'loss')\n",
    "  sns.stripplot(data=df_loss, alpha=0.7)\n",
    "  plt.figure(2)\n",
    "  plt.title('acc')\n",
    "  sns.stripplot(data=df_acc, alpha=0.7)"
   ]
  },
  {
   "cell_type": "markdown",
   "metadata": {
    "colab_type": "text",
    "id": "EzyyRomN4VU-"
   },
   "source": [
    "# Usage example"
   ]
  },
  {
   "cell_type": "markdown",
   "metadata": {
    "colab_type": "text",
    "id": "cu1uBgNm8XXq"
   },
   "source": [
    "1. Listup your activation functions\n",
    "2. Assign keras dataset"
   ]
  },
  {
   "cell_type": "code",
   "execution_count": 0,
   "metadata": {
    "colab": {},
    "colab_type": "code",
    "id": "88z-u6aLxuva"
   },
   "outputs": [],
   "source": [
    "activation_functions = dict(\n",
    "    tanh = tf.nn.tanh,\n",
    "    sigmoid = tf.nn.sigmoid,\n",
    "    relu = tf.nn.relu,\n",
    "    leaky_relu = tf.nn.leaky_relu,\n",
    "    swish = tf.nn.swish,\n",
    ")\n",
    "dataset = tf.keras.datasets.mnist"
   ]
  },
  {
   "cell_type": "markdown",
   "metadata": {
    "colab_type": "text",
    "id": "T9BNH0zE8qd4"
   },
   "source": [
    "3. run main function with your options"
   ]
  },
  {
   "cell_type": "code",
   "execution_count": 0,
   "metadata": {
    "colab": {
     "base_uri": "https://localhost:8080/",
     "height": 778
    },
    "colab_type": "code",
    "id": "muBnzzCphcuf",
    "outputId": "160bb1d6-4bad-4990-c715-dd07d114f71f"
   },
   "outputs": [
    {
     "name": "stdout",
     "output_type": "stream",
     "text": [
      "Analysis start\n",
      "  Activation functions: dict_keys(['tanh', 'sigmoid', 'relu', 'leaky_relu', 'swish'])\n",
      "  Dataset:tensorflow.python.keras.api._v1.keras.datasets.mnist\n"
     ]
    },
    {
     "name": "stderr",
     "output_type": "stream",
     "text": [
      "WARNING: Logging before flag parsing goes to stderr.\n",
      "W0724 08:32:24.770990 139976172828544 deprecation.py:506] From /usr/local/lib/python3.6/dist-packages/tensorflow/python/ops/init_ops.py:1251: calling VarianceScaling.__init__ (from tensorflow.python.ops.init_ops) with dtype is deprecated and will be removed in a future version.\n",
      "Instructions for updating:\n",
      "Call initializer instance with the dtype argument instead of passing it to the constructor\n"
     ]
    },
    {
     "name": "stdout",
     "output_type": "stream",
     "text": [
      "[1/5][tanh analysis completed]\n",
      "[2/5][sigmoid analysis completed]\n",
      "[3/5][relu analysis completed]\n",
      "[4/5][leaky_relu analysis completed]\n",
      "[5/5][swish analysis completed]\n"
     ]
    },
    {
     "data": {
      "image/png": "[encoded data removed]",
      "text/plain": [
       "<Figure size 432x288 with 1 Axes>"
      ]
     },
     "metadata": {
      "tags": []
     },
     "output_type": "display_data"
    },
    {
     "data": {
      "image/png": "[encoded data removed]",
      "text/plain": [
       "<Figure size 432x288 with 1 Axes>"
      ]
     },
     "metadata": {
      "tags": []
     },
     "output_type": "display_data"
    }
   ],
   "source": [
    "mnist_ntimes5_epoch3_layer1_neuron5 = main(activation_functions, dataset, \n",
    "                                    ntimes=5, epochs=3, n_hidden_layers=1, n_hidden_neurons=5)"
   ]
  },
  {
   "cell_type": "code",
   "execution_count": 0,
   "metadata": {
    "colab": {
     "base_uri": "https://localhost:8080/",
     "height": 1000
    },
    "colab_type": "code",
    "id": "vu_rnGHj-bAL",
    "outputId": "15fe910c-6ff0-4f61-d726-e2ae0bfa6648"
   },
   "outputs": [
    {
     "name": "stdout",
     "output_type": "stream",
     "text": [
      "Analysis start\n",
      "  Activation functions: dict_keys(['tanh', 'sigmoid', 'relu', 'leaky_relu', 'swish'])\n",
      "  Dataset:tensorflow.python.keras.api._v1.keras.datasets.mnist\n",
      "Epoch 1/10\n",
      "60000/60000 [==============================] - 11s 186us/sample - loss: 0.3681 - acc: 0.8912\n",
      "Epoch 2/10\n",
      "60000/60000 [==============================] - 10s 162us/sample - loss: 0.2233 - acc: 0.9354\n",
      "Epoch 3/10\n",
      "60000/60000 [==============================] - 11s 182us/sample - loss: 0.1807 - acc: 0.9483\n",
      "Epoch 4/10\n",
      "60000/60000 [==============================] - 11s 176us/sample - loss: 0.1509 - acc: 0.9574\n",
      "Epoch 5/10\n",
      "60000/60000 [==============================] - 11s 176us/sample - loss: 0.1351 - acc: 0.9614\n",
      "Epoch 6/10\n",
      "60000/60000 [==============================] - 11s 185us/sample - loss: 0.1206 - acc: 0.9658\n",
      "Epoch 7/10\n",
      "60000/60000 [==============================] - 11s 178us/sample - loss: 0.1080 - acc: 0.9704\n",
      "Epoch 8/10\n",
      "60000/60000 [==============================] - 11s 183us/sample - loss: 0.0972 - acc: 0.9730\n",
      "Epoch 9/10\n",
      "60000/60000 [==============================] - 10s 170us/sample - loss: 0.0921 - acc: 0.9743\n",
      "Epoch 10/10\n",
      "60000/60000 [==============================] - 11s 178us/sample - loss: 0.0833 - acc: 0.9770\n",
      "10000/10000 [==============================] - 1s 83us/sample - loss: 0.1405 - acc: 0.9645\n",
      "Epoch 1/10\n",
      "60000/60000 [==============================] - 11s 185us/sample - loss: 0.3662 - acc: 0.8914\n",
      "Epoch 2/10\n",
      "60000/60000 [==============================] - 10s 174us/sample - loss: 0.2272 - acc: 0.9347\n",
      "Epoch 3/10\n",
      "60000/60000 [==============================] - 11s 180us/sample - loss: 0.1842 - acc: 0.9479\n",
      "Epoch 4/10\n",
      "60000/60000 [==============================] - 11s 182us/sample - loss: 0.1537 - acc: 0.9560\n",
      "Epoch 5/10\n",
      "60000/60000 [==============================] - 11s 186us/sample - loss: 0.1376 - acc: 0.9608\n",
      "Epoch 6/10\n",
      "60000/60000 [==============================] - 10s 173us/sample - loss: 0.1179 - acc: 0.9663\n",
      "Epoch 7/10\n",
      "60000/60000 [==============================] - 10s 170us/sample - loss: 0.1095 - acc: 0.9692\n",
      "Epoch 8/10\n",
      "60000/60000 [==============================] - 10s 169us/sample - loss: 0.0992 - acc: 0.9715\n",
      "Epoch 9/10\n",
      "60000/60000 [==============================] - 10s 173us/sample - loss: 0.0912 - acc: 0.9740\n",
      "Epoch 10/10\n",
      "60000/60000 [==============================] - 11s 185us/sample - loss: 0.0859 - acc: 0.9763\n",
      "10000/10000 [==============================] - 1s 88us/sample - loss: 0.1473 - acc: 0.9622\n",
      "Epoch 1/10\n",
      "60000/60000 [==============================] - 11s 186us/sample - loss: 0.3661 - acc: 0.8907\n",
      "Epoch 2/10\n",
      "60000/60000 [==============================] - 11s 188us/sample - loss: 0.2314 - acc: 0.9330\n",
      "Epoch 3/10\n",
      "60000/60000 [==============================] - 12s 193us/sample - loss: 0.1885 - acc: 0.9467\n",
      "Epoch 4/10\n",
      "60000/60000 [==============================] - 11s 178us/sample - loss: 0.1582 - acc: 0.9538\n",
      "Epoch 5/10\n",
      "60000/60000 [==============================] - 11s 179us/sample - loss: 0.1357 - acc: 0.9621\n",
      "Epoch 6/10\n",
      "60000/60000 [==============================] - 11s 176us/sample - loss: 0.1189 - acc: 0.9663\n",
      "Epoch 7/10\n",
      "60000/60000 [==============================] - 11s 177us/sample - loss: 0.1094 - acc: 0.9686\n",
      "Epoch 8/10\n",
      "60000/60000 [==============================] - 12s 197us/sample - loss: 0.0994 - acc: 0.9719\n",
      "Epoch 9/10\n",
      "60000/60000 [==============================] - 11s 186us/sample - loss: 0.0911 - acc: 0.9743\n",
      "Epoch 10/10\n",
      "60000/60000 [==============================] - 11s 187us/sample - loss: 0.0831 - acc: 0.9766\n",
      "10000/10000 [==============================] - 1s 95us/sample - loss: 0.1716 - acc: 0.9586\n",
      "[1/5][tanh analysis completed]\n",
      "Epoch 1/10\n",
      "60000/60000 [==============================] - 11s 185us/sample - loss: 2.3099 - acc: 0.1044\n",
      "Epoch 2/10\n",
      "60000/60000 [==============================] - 11s 179us/sample - loss: 2.3071 - acc: 0.1066\n",
      "Epoch 3/10\n",
      "60000/60000 [==============================] - 11s 179us/sample - loss: 2.3062 - acc: 0.1054\n",
      "Epoch 4/10\n",
      "60000/60000 [==============================] - 11s 178us/sample - loss: 2.3026 - acc: 0.1097\n",
      "Epoch 5/10\n",
      "60000/60000 [==============================] - 11s 181us/sample - loss: 2.3016 - acc: 0.1112\n",
      "Epoch 6/10\n",
      "60000/60000 [==============================] - 11s 187us/sample - loss: 1.8990 - acc: 0.2176\n",
      "Epoch 7/10\n",
      "60000/60000 [==============================] - 11s 177us/sample - loss: 1.2030 - acc: 0.5382\n",
      "Epoch 8/10\n",
      "60000/60000 [==============================] - 10s 164us/sample - loss: 0.9163 - acc: 0.6742\n",
      "Epoch 9/10\n",
      "60000/60000 [==============================] - 11s 182us/sample - loss: 0.7189 - acc: 0.7972\n",
      "Epoch 10/10\n",
      "60000/60000 [==============================] - 11s 185us/sample - loss: 0.6075 - acc: 0.8403\n",
      "10000/10000 [==============================] - 1s 93us/sample - loss: 0.6041 - acc: 0.8376\n",
      "Epoch 1/10\n",
      "60000/60000 [==============================] - 12s 192us/sample - loss: 2.3118 - acc: 0.1036\n",
      "Epoch 2/10\n",
      "60000/60000 [==============================] - 11s 186us/sample - loss: 2.3057 - acc: 0.1045\n",
      "Epoch 3/10\n",
      "60000/60000 [==============================] - 11s 179us/sample - loss: 2.3025 - acc: 0.1094\n",
      "Epoch 4/10\n",
      "60000/60000 [==============================] - 11s 183us/sample - loss: 2.3016 - acc: 0.1118\n",
      "Epoch 5/10\n",
      "60000/60000 [==============================] - 12s 201us/sample - loss: 2.3015 - acc: 0.1124\n",
      "Epoch 6/10\n",
      "60000/60000 [==============================] - 11s 181us/sample - loss: 2.3014 - acc: 0.1124\n",
      "Epoch 7/10\n",
      "60000/60000 [==============================] - 11s 182us/sample - loss: 2.3013 - acc: 0.1124\n",
      "Epoch 8/10\n",
      "60000/60000 [==============================] - 12s 205us/sample - loss: 2.3014 - acc: 0.1124\n",
      "Epoch 9/10\n",
      "60000/60000 [==============================] - 11s 181us/sample - loss: 2.3014 - acc: 0.1124\n",
      "Epoch 10/10\n",
      "60000/60000 [==============================] - 11s 180us/sample - loss: 2.3013 - acc: 0.1124\n",
      "10000/10000 [==============================] - 1s 94us/sample - loss: 2.3011 - acc: 0.1135\n",
      "Epoch 1/10\n",
      "60000/60000 [==============================] - 12s 203us/sample - loss: 2.3106 - acc: 0.1003\n",
      "Epoch 2/10\n",
      "60000/60000 [==============================] - 13s 210us/sample - loss: 2.3079 - acc: 0.1017\n",
      "Epoch 3/10\n",
      "60000/60000 [==============================] - 13s 213us/sample - loss: 2.3066 - acc: 0.1049\n",
      "Epoch 4/10\n",
      "60000/60000 [==============================] - 13s 220us/sample - loss: 2.3029 - acc: 0.1094\n",
      "Epoch 5/10\n",
      "60000/60000 [==============================] - 12s 199us/sample - loss: 2.3016 - acc: 0.1119\n",
      "Epoch 6/10\n",
      "60000/60000 [==============================] - 12s 205us/sample - loss: 2.3014 - acc: 0.1124\n",
      "Epoch 7/10\n",
      "60000/60000 [==============================] - 13s 208us/sample - loss: 2.3014 - acc: 0.1124\n",
      "Epoch 8/10\n",
      "60000/60000 [==============================] - 13s 217us/sample - loss: 2.3014 - acc: 0.1124\n",
      "Epoch 9/10\n",
      "60000/60000 [==============================] - 14s 226us/sample - loss: 2.3014 - acc: 0.1124\n",
      "Epoch 10/10\n",
      "60000/60000 [==============================] - 14s 227us/sample - loss: 2.3013 - acc: 0.1124\n",
      "10000/10000 [==============================] - 1s 118us/sample - loss: 2.3011 - acc: 0.1135\n",
      "[2/5][sigmoid analysis completed]\n",
      "Epoch 1/10\n",
      "60000/60000 [==============================] - 15s 242us/sample - loss: 0.3365 - acc: 0.8970\n",
      "Epoch 2/10\n",
      "60000/60000 [==============================] - 13s 224us/sample - loss: 0.1549 - acc: 0.9576\n",
      "Epoch 3/10\n",
      "60000/60000 [==============================] - 14s 232us/sample - loss: 0.1223 - acc: 0.9672\n",
      "Epoch 4/10\n",
      "60000/60000 [==============================] - 14s 230us/sample - loss: 0.0986 - acc: 0.9735\n",
      "Epoch 5/10\n",
      "60000/60000 [==============================] - 14s 230us/sample - loss: 0.0840 - acc: 0.9781\n",
      "Epoch 6/10\n",
      "60000/60000 [==============================] - 14s 236us/sample - loss: 0.0740 - acc: 0.9800\n",
      "Epoch 7/10\n",
      "60000/60000 [==============================] - 14s 239us/sample - loss: 0.0635 - acc: 0.9831\n",
      "Epoch 8/10\n",
      "60000/60000 [==============================] - 14s 237us/sample - loss: 0.0587 - acc: 0.9844\n",
      "Epoch 9/10\n",
      "60000/60000 [==============================] - 14s 235us/sample - loss: 0.0529 - acc: 0.9860\n",
      "Epoch 10/10\n",
      "60000/60000 [==============================] - 14s 241us/sample - loss: 0.0463 - acc: 0.9880\n",
      "10000/10000 [==============================] - 1s 130us/sample - loss: 0.1211 - acc: 0.9747\n",
      "Epoch 1/10\n",
      "60000/60000 [==============================] - 15s 247us/sample - loss: 0.3644 - acc: 0.8916\n",
      "Epoch 2/10\n",
      "60000/60000 [==============================] - 14s 228us/sample - loss: 0.1668 - acc: 0.9541\n",
      "Epoch 3/10\n",
      "60000/60000 [==============================] - 14s 228us/sample - loss: 0.1244 - acc: 0.9670\n",
      "Epoch 4/10\n",
      "60000/60000 [==============================] - 14s 229us/sample - loss: 0.1041 - acc: 0.9725\n",
      "Epoch 5/10\n",
      "60000/60000 [==============================] - 14s 232us/sample - loss: 0.0880 - acc: 0.9762\n",
      "Epoch 6/10\n",
      "60000/60000 [==============================] - 15s 242us/sample - loss: 0.0791 - acc: 0.9786\n",
      "Epoch 7/10\n",
      "60000/60000 [==============================] - 14s 238us/sample - loss: 0.0668 - acc: 0.9823\n",
      "Epoch 8/10\n",
      "60000/60000 [==============================] - 14s 238us/sample - loss: 0.0617 - acc: 0.9833\n",
      "Epoch 9/10\n",
      "60000/60000 [==============================] - 14s 229us/sample - loss: 0.0555 - acc: 0.9854\n",
      "Epoch 10/10\n",
      "60000/60000 [==============================] - 14s 236us/sample - loss: 0.0488 - acc: 0.9874\n",
      "10000/10000 [==============================] - 1s 121us/sample - loss: 0.1496 - acc: 0.9664\n",
      "Epoch 1/10\n",
      "60000/60000 [==============================] - 15s 243us/sample - loss: 0.3758 - acc: 0.8849\n",
      "Epoch 2/10\n",
      "60000/60000 [==============================] - 14s 238us/sample - loss: 0.1630 - acc: 0.9557\n",
      "Epoch 3/10\n",
      "60000/60000 [==============================] - 14s 235us/sample - loss: 0.1212 - acc: 0.9670\n",
      "Epoch 4/10\n",
      "60000/60000 [==============================] - 15s 242us/sample - loss: 0.1010 - acc: 0.9729\n",
      "Epoch 5/10\n",
      "60000/60000 [==============================] - 14s 237us/sample - loss: 0.0861 - acc: 0.9766\n",
      "Epoch 6/10\n",
      "60000/60000 [==============================] - 14s 234us/sample - loss: 0.0756 - acc: 0.9798\n",
      "Epoch 7/10\n",
      "60000/60000 [==============================] - 14s 235us/sample - loss: 0.0653 - acc: 0.9826\n",
      "Epoch 8/10\n",
      "60000/60000 [==============================] - 14s 236us/sample - loss: 0.0581 - acc: 0.9840\n",
      "Epoch 9/10\n",
      "60000/60000 [==============================] - 14s 234us/sample - loss: 0.0539 - acc: 0.9855\n",
      "Epoch 10/10\n",
      "60000/60000 [==============================] - 15s 248us/sample - loss: 0.0502 - acc: 0.9870\n",
      "10000/10000 [==============================] - 1s 138us/sample - loss: 0.1199 - acc: 0.9701\n",
      "[3/5][relu analysis completed]\n",
      "Epoch 1/10\n",
      "60000/60000 [==============================] - 15s 249us/sample - loss: 0.3393 - acc: 0.8966\n",
      "Epoch 2/10\n",
      "60000/60000 [==============================] - 14s 240us/sample - loss: 0.1638 - acc: 0.9534\n",
      "Epoch 3/10\n",
      "60000/60000 [==============================] - 14s 238us/sample - loss: 0.1255 - acc: 0.9641\n",
      "Epoch 4/10\n",
      "60000/60000 [==============================] - 14s 239us/sample - loss: 0.1051 - acc: 0.9698\n",
      "Epoch 5/10\n",
      "60000/60000 [==============================] - 14s 235us/sample - loss: 0.0938 - acc: 0.9731\n",
      "Epoch 6/10\n",
      "60000/60000 [==============================] - 14s 238us/sample - loss: 0.0790 - acc: 0.9770\n",
      "Epoch 7/10\n",
      "60000/60000 [==============================] - 15s 249us/sample - loss: 0.0719 - acc: 0.9795\n",
      "Epoch 8/10\n",
      "60000/60000 [==============================] - 14s 229us/sample - loss: 0.0652 - acc: 0.9822\n",
      "Epoch 9/10\n",
      "60000/60000 [==============================] - 14s 238us/sample - loss: 0.0569 - acc: 0.9832\n",
      "Epoch 10/10\n",
      "60000/60000 [==============================] - 14s 236us/sample - loss: 0.0567 - acc: 0.9841\n",
      "10000/10000 [==============================] - 1s 134us/sample - loss: 0.1273 - acc: 0.9705\n",
      "Epoch 1/10\n",
      "60000/60000 [==============================] - 15s 252us/sample - loss: 0.3322 - acc: 0.8979\n",
      "Epoch 2/10\n",
      "60000/60000 [==============================] - 14s 239us/sample - loss: 0.1618 - acc: 0.9538\n",
      "Epoch 3/10\n",
      "60000/60000 [==============================] - 14s 237us/sample - loss: 0.1288 - acc: 0.9640\n",
      "Epoch 4/10\n",
      "60000/60000 [==============================] - 15s 243us/sample - loss: 0.1048 - acc: 0.9707\n",
      "Epoch 5/10\n",
      "60000/60000 [==============================] - 14s 241us/sample - loss: 0.0956 - acc: 0.9733\n",
      "Epoch 6/10\n",
      "60000/60000 [==============================] - 14s 240us/sample - loss: 0.0818 - acc: 0.9771\n",
      "Epoch 7/10\n",
      "60000/60000 [==============================] - 15s 242us/sample - loss: 0.0739 - acc: 0.9784\n",
      "Epoch 8/10\n",
      "60000/60000 [==============================] - 14s 240us/sample - loss: 0.0657 - acc: 0.9812\n",
      "Epoch 9/10\n",
      "60000/60000 [==============================] - 14s 239us/sample - loss: 0.0586 - acc: 0.9834\n",
      "Epoch 10/10\n",
      "60000/60000 [==============================] - 14s 240us/sample - loss: 0.0545 - acc: 0.9848\n",
      "10000/10000 [==============================] - 1s 142us/sample - loss: 0.1041 - acc: 0.9752\n",
      "Epoch 1/10\n",
      "60000/60000 [==============================] - 16s 260us/sample - loss: 0.3595 - acc: 0.8890\n",
      "Epoch 2/10\n",
      "60000/60000 [==============================] - 15s 245us/sample - loss: 0.1656 - acc: 0.9519\n",
      "Epoch 3/10\n",
      "60000/60000 [==============================] - 15s 254us/sample - loss: 0.1281 - acc: 0.9632\n",
      "Epoch 4/10\n",
      "60000/60000 [==============================] - 15s 249us/sample - loss: 0.1061 - acc: 0.9700\n",
      "Epoch 5/10\n",
      "60000/60000 [==============================] - 15s 252us/sample - loss: 0.0933 - acc: 0.9736\n",
      "Epoch 6/10\n",
      "60000/60000 [==============================] - 15s 256us/sample - loss: 0.0789 - acc: 0.9775\n",
      "Epoch 7/10\n",
      "60000/60000 [==============================] - 16s 272us/sample - loss: 0.0733 - acc: 0.9788\n",
      "Epoch 8/10\n",
      "60000/60000 [==============================] - 15s 251us/sample - loss: 0.0646 - acc: 0.9820\n",
      "Epoch 9/10\n",
      "60000/60000 [==============================] - 15s 249us/sample - loss: 0.0603 - acc: 0.9832\n",
      "Epoch 10/10\n",
      "60000/60000 [==============================] - 15s 251us/sample - loss: 0.0527 - acc: 0.9850\n",
      "10000/10000 [==============================] - 1s 144us/sample - loss: 0.1161 - acc: 0.9696\n",
      "[4/5][leaky_relu analysis completed]\n",
      "Epoch 1/10\n",
      "60000/60000 [==============================] - 17s 279us/sample - loss: 0.4634 - acc: 0.8523\n",
      "Epoch 2/10\n",
      "60000/60000 [==============================] - 16s 268us/sample - loss: 0.1834 - acc: 0.9464\n",
      "Epoch 3/10\n",
      "60000/60000 [==============================] - 16s 267us/sample - loss: 0.1351 - acc: 0.9617\n",
      "Epoch 4/10\n",
      "60000/60000 [==============================] - 16s 266us/sample - loss: 0.1070 - acc: 0.9698\n",
      "Epoch 5/10\n",
      "60000/60000 [==============================] - 16s 264us/sample - loss: 0.0917 - acc: 0.9740\n",
      "Epoch 6/10\n",
      "60000/60000 [==============================] - 16s 273us/sample - loss: 0.0745 - acc: 0.9789\n",
      "Epoch 7/10\n",
      "60000/60000 [==============================] - 17s 277us/sample - loss: 0.0654 - acc: 0.9822\n",
      "Epoch 8/10\n",
      "60000/60000 [==============================] - 17s 279us/sample - loss: 0.0589 - acc: 0.9835\n",
      "Epoch 9/10\n",
      "60000/60000 [==============================] - 17s 281us/sample - loss: 0.0501 - acc: 0.9863\n",
      "Epoch 10/10\n",
      "60000/60000 [==============================] - 17s 277us/sample - loss: 0.0459 - acc: 0.9873\n",
      "10000/10000 [==============================] - 2s 165us/sample - loss: 0.1330 - acc: 0.9710\n",
      "Epoch 1/10\n",
      "60000/60000 [==============================] - 17s 282us/sample - loss: 0.4472 - acc: 0.8565\n",
      "Epoch 2/10\n",
      "60000/60000 [==============================] - 17s 276us/sample - loss: 0.1767 - acc: 0.9485\n",
      "Epoch 3/10\n",
      "60000/60000 [==============================] - 16s 272us/sample - loss: 0.1307 - acc: 0.9621\n",
      "Epoch 4/10\n",
      "60000/60000 [==============================] - 16s 275us/sample - loss: 0.1049 - acc: 0.9706\n",
      "Epoch 5/10\n",
      "60000/60000 [==============================] - 17s 284us/sample - loss: 0.0869 - acc: 0.9755\n",
      "Epoch 6/10\n",
      "60000/60000 [==============================] - 17s 276us/sample - loss: 0.0720 - acc: 0.9801\n",
      "Epoch 7/10\n",
      "60000/60000 [==============================] - 17s 277us/sample - loss: 0.0642 - acc: 0.9826\n",
      "Epoch 8/10\n",
      "60000/60000 [==============================] - 16s 273us/sample - loss: 0.0552 - acc: 0.9851\n",
      "Epoch 9/10\n",
      "60000/60000 [==============================] - 16s 273us/sample - loss: 0.0487 - acc: 0.9869\n",
      "Epoch 10/10\n",
      "60000/60000 [==============================] - 17s 275us/sample - loss: 0.0469 - acc: 0.9879\n",
      "10000/10000 [==============================] - 2s 169us/sample - loss: 0.1068 - acc: 0.9780\n",
      "Epoch 1/10\n",
      "60000/60000 [==============================] - 17s 285us/sample - loss: 0.4134 - acc: 0.8690\n",
      "Epoch 2/10\n",
      "60000/60000 [==============================] - 17s 276us/sample - loss: 0.1717 - acc: 0.9498\n",
      "Epoch 3/10\n",
      "60000/60000 [==============================] - 16s 267us/sample - loss: 0.1274 - acc: 0.9632\n",
      "Epoch 4/10\n",
      "60000/60000 [==============================] - 16s 270us/sample - loss: 0.1061 - acc: 0.9706\n",
      "Epoch 5/10\n",
      "60000/60000 [==============================] - 16s 271us/sample - loss: 0.0879 - acc: 0.9746\n",
      "Epoch 6/10\n",
      "60000/60000 [==============================] - 16s 275us/sample - loss: 0.0776 - acc: 0.9785\n",
      "Epoch 7/10\n",
      "60000/60000 [==============================] - 17s 275us/sample - loss: 0.0658 - acc: 0.9816\n",
      "Epoch 8/10\n",
      "60000/60000 [==============================] - 17s 279us/sample - loss: 0.0578 - acc: 0.9843\n",
      "Epoch 9/10\n",
      "60000/60000 [==============================] - 17s 275us/sample - loss: 0.0540 - acc: 0.9849\n",
      "Epoch 10/10\n",
      "60000/60000 [==============================] - 16s 273us/sample - loss: 0.0455 - acc: 0.9874\n",
      "10000/10000 [==============================] - 2s 177us/sample - loss: 0.1110 - acc: 0.9739\n",
      "[5/5][swish analysis completed]\n"
     ]
    },
    {
     "data": {
      "image/png": "[encoded data removed]",
      "text/plain": [
       "<Figure size 432x288 with 1 Axes>"
      ]
     },
     "metadata": {
      "tags": []
     },
     "output_type": "display_data"
    },
    {
     "data": {
      "image/png": "[encoded data removed]",
      "text/plain": [
       "<Figure size 432x288 with 1 Axes>"
      ]
     },
     "metadata": {
      "tags": []
     },
     "output_type": "display_data"
    }
   ],
   "source": [
    "activation_functions = dict(\n",
    "    tanh = tf.nn.tanh,\n",
    "    sigmoid = tf.nn.sigmoid,\n",
    "    relu = tf.nn.relu,\n",
    "    leaky_relu = tf.nn.leaky_relu,\n",
    "    swish = tf.nn.swish,\n",
    ")\n",
    "dataset = tf.keras.datasets.mnist\n",
    "\n",
    "mnist_ntimes3_epoch10_layer10_neuron100 = main(activation_functions, dataset, \n",
    "                                    ntimes=3, epochs=10, n_hidden_layers=10, n_hidden_neurons=100, verbose=1)"
   ]
  },
  {
   "cell_type": "code",
   "execution_count": 0,
   "metadata": {
    "colab": {
     "base_uri": "https://localhost:8080/",
     "height": 546
    },
    "colab_type": "code",
    "id": "_CUAyGu5R-cP",
    "outputId": "cf7b31bb-dc14-4b75-c0a5-718b521d7239"
   },
   "outputs": [
    {
     "data": {
      "image/png": "[encoded data removed]",
      "text/plain": [
       "<Figure size 432x288 with 1 Axes>"
      ]
     },
     "metadata": {
      "tags": []
     },
     "output_type": "display_data"
    },
    {
     "data": {
      "image/png": "[encoded data removed]",
      "text/plain": [
       "<Figure size 432x288 with 1 Axes>"
      ]
     },
     "metadata": {
      "tags": []
     },
     "output_type": "display_data"
    }
   ],
   "source": [
    "summary_plot(mnist_ntimes3_epoch10_layer10_neuron100)"
   ]
  },
  {
   "cell_type": "code",
   "execution_count": 0,
   "metadata": {
    "colab": {
     "base_uri": "https://localhost:8080/",
     "height": 687
    },
    "colab_type": "code",
    "id": "r8irPgGnAACz",
    "outputId": "3ec26d54-4d2d-4b93-a680-b18504ecbf3d"
   },
   "outputs": [
    {
     "name": "stdout",
     "output_type": "stream",
     "text": [
      "Analysis start\n",
      "  Activation functions: dict_keys(['tanh', 'sigmoid', 'relu', 'leaky_relu', 'swish'])\n",
      "  Dataset:tensorflow.python.keras.api._v1.keras.datasets.cifar10\n",
      "[1/5][tanh analysis completed]\n",
      "[2/5][sigmoid analysis completed]\n",
      "[3/5][relu analysis completed]\n",
      "[4/5][leaky_relu analysis completed]\n",
      "[5/5][swish analysis completed]\n"
     ]
    },
    {
     "data": {
      "image/png": "[encoded data removed]",
      "text/plain": [
       "<Figure size 432x288 with 1 Axes>"
      ]
     },
     "metadata": {
      "tags": []
     },
     "output_type": "display_data"
    },
    {
     "data": {
      "image/png": "[encoded data removed]",
      "text/plain": [
       "<Figure size 432x288 with 1 Axes>"
      ]
     },
     "metadata": {
      "tags": []
     },
     "output_type": "display_data"
    }
   ],
   "source": [
    "activation_functions = dict(\n",
    "    tanh = tf.nn.tanh,\n",
    "    sigmoid = tf.nn.sigmoid,\n",
    "    relu = tf.nn.relu,\n",
    "    leaky_relu = tf.nn.leaky_relu,\n",
    "    swish = tf.nn.swish,\n",
    ")\n",
    "dataset = tf.keras.datasets.cifar10\n",
    "\n",
    "cifar10_ntimes3_epoch10_layer10_neuron100 = main(activation_functions, dataset, \n",
    "                                    ntimes=3, epochs=3, n_hidden_layers=10, n_hidden_neurons=100)"
   ]
  },
  {
   "cell_type": "code",
   "execution_count": 0,
   "metadata": {
    "colab": {},
    "colab_type": "code",
    "id": "OEJtkDBEAv6I"
   },
   "outputs": [],
   "source": []
  }
 ],
 "metadata": {
  "accelerator": "TPU",
  "colab": {
   "name": "escapers-about-activation-function.ipynb",
   "provenance": [],
   "version": "0.3.2"
  },
  "kernelspec": {
   "display_name": "Python 3",
   "language": "python",
   "name": "python3"
  },
  "language_info": {
   "codemirror_mode": {
    "name": "ipython",
    "version": 3
   },
   "file_extension": ".py",
   "mimetype": "text/x-python",
   "name": "python",
   "nbconvert_exporter": "python",
   "pygments_lexer": "ipython3",
   "version": "3.6.8"
  }
 },
 "nbformat": 4,
 "nbformat_minor": 1
}
